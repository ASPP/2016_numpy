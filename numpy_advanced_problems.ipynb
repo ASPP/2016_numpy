{
 "cells": [
  {
   "cell_type": "markdown",
   "metadata": {},
   "source": [
    "# Problem-set: Advanced NumPy\n",
    "\n",
    "- [The NumPy array](#The-NumPy-array)\n",
    "- [Structured Arrays](#Structured-Arrays)\n",
    "- [Broadcasting](#Broadcasting)\n",
    "- [Indexing](#Indexing)\n",
    "- [Array Interface](#Array-Interface)\n",
    "- [Advanced Exercises](#Advanced-Exercises)\n",
    "- [Very Advanced Exercises](#Very-Advanced-Exercises)\n",
    "\n",
    "Please do explore beyond the problems given, and feel free to ask questions at any time.\n",
    "\n",
    "> **Note**:\n",
    "> Solutions to some problems are provided, but try to avoid peeking at them until you've made an attempt!\n",
    "> Before we start, load NumPy:\n",
    "\n",
    "```python\n",
    "import numpy as np\n",
    "```\n",
    "\n",
    "These exercises explore some of the more advanced features of NumPy.\n",
    "If you prefer to learn the basics from scratch, have a look at\n",
    "[this introduction](http://mentat.za.net/numpy/intro/intro.html).\n",
    "\n",
    "If you run out of exercises, there are [90 more here!](http://www.loria.fr/~rougier/teaching/numpy.100/)"
   ]
  },
  {
   "cell_type": "markdown",
   "metadata": {},
   "source": [
    "## The NumPy array"
   ]
  },
  {
   "cell_type": "markdown",
   "metadata": {},
   "source": [
    "- Let's explore the basics of a NumPy array. Create a 3x4 array of\n",
    "random values (using np.random.random), and call it ``x``.\n",
    "Create another array as follows: ``y = x[2]``.\n",
    "What happens when you modify ``y``, does ``x`` also change?"
   ]
  },
  {
   "cell_type": "markdown",
   "metadata": {},
   "source": [
    "- In the array above, have a look at its different properties: ``x.shape``, ``x.ndim``,\n",
    "``x.dtype``, ``x.strides``. What does each property tell you about the array?"
   ]
  },
  {
   "cell_type": "markdown",
   "metadata": {},
   "source": [
    "- Compare the strides property of x.T to the above. What is x.T and can you\n",
    "explain the new strides?"
   ]
  },
  {
   "cell_type": "markdown",
   "metadata": {},
   "source": [
    "- Compute the sum of the columns of x. You may find the function to do that by\n",
    "using `np.<TAB>` in IPython / Jupyter, `print(dir(np))` in standard Python or\n",
    "`np.lookfor('sum')`. Remember that you can always look at the docstring of any\n",
    "function in Python (use `np.func_name?<ENTER>` in IPython or `help(np.func_name)`\n",
    "in standard Python)."
   ]
  },
  {
   "cell_type": "markdown",
   "metadata": {},
   "source": [
    "- Construct the array x = np.array([0, 1, 2, 3], dtype=np.uint8) (here, uint8\n",
    "represents a single byte in memory, an unsigned integer between 0 and 255). Can\n",
    "you explain the results obtained by x + 1 and x / 2? Also try x.astype(float) +\n",
    "1 and x.astype(float) / 2."
   ]
  },
  {
   "cell_type": "markdown",
   "metadata": {},
   "source": [
    "- What is the maximum number of dimensions a NumPy array can have? Use one of the\n",
    "array constructors (np.zeros, np.empty, np.random.random, etc.) to find out."
   ]
  },
  {
   "cell_type": "markdown",
   "metadata": {},
   "source": [
    "## Broadcasting"
   ]
  },
  {
   "cell_type": "markdown",
   "metadata": {},
   "source": [
    "## Q1\n",
    "\n",
    "Take a look at the following. Many of you may know it as a meshgrid:\n",
    "\n",
    "```\n",
    "x, y = np.mgrid[:10, :5]\n",
    "z = x + y\n",
    "```\n",
    "\n",
    "Now, reproduce z from the above snippet, but this time use NumPy's\n",
    "``ogrid`` together with broadcasting.\n",
    "\n",
    "In our solution, broadcasting is used \"behind the scenes\". To see what happens\n",
    "more explicitly, apply ``np.broadcast_arrays`` on the ``x`` and ``y`` given by\n",
    "``ogrid``. This should correspond to the ``x`` and ``y`` produced by ``mgrid``.\n",
    "\n",
    "Benchmark the two approaches (one using ``mgrid``, the other ``ogrid``), using\n",
    "IPython's ``%timeit`` function, on a larger grid. Can you explain the difference in\n",
    "execution time?"
   ]
  },
  {
   "cell_type": "markdown",
   "metadata": {},
   "source": [
    "## Q2\n",
    "\n",
    "Given a list of XYZ-coordinates, ``p``,\n",
    "\n",
    "```\n",
    "[[1.0, 2.0, 10],\n",
    " [3.0, 4.0, 20],\n",
    " [5.0, 6.0, 30],\n",
    " [7.0, 8.0, 40]]\n",
    "```\n",
    "\n",
    "Normalise each coordinate by dividing with its Z (3rd) element. For example,\n",
    "the first row becomes:\n",
    "\n",
    "```\n",
    "[1/10, 2/10, 10/10]\n",
    "```\n",
    "\n",
    "> **Hint:** extract the last column into a variable ``z``, and then change its dimensions so\n",
    "> that ``p / z`` works."
   ]
  },
  {
   "cell_type": "markdown",
   "metadata": {},
   "source": [
    "## Indexing"
   ]
  },
  {
   "cell_type": "markdown",
   "metadata": {},
   "source": [
    "## Q1\n",
    "\n",
    "Create a ``3x3`` ndarray. Use fancy indexing to slice out the diagonal elements."
   ]
  },
  {
   "cell_type": "markdown",
   "metadata": {},
   "source": [
    "## Q2\n",
    "\n",
    "Generate a 10 x 3 array of random numbers (all between 0 and 1). From each row, pick\n",
    "the number closest to 0.75. Make use of ``np.abs`` and ``np.argmax`` to find the\n",
    "column ``j`` which contains the closest element in each row."
   ]
  },
  {
   "cell_type": "markdown",
   "metadata": {},
   "source": [
    "## Q3\n",
    "\n",
    "Predict and verify the shape of the following slicing operation.\n",
    "\n",
    "```python\n",
    "x = np.empty((10, 8, 6))\n",
    "\n",
    "idx0 = np.zeros((3, 8)).astype(int)\n",
    "idx1 = np.zeros((3, 1)).astype(int)\n",
    "idx2 = np.zeros((1, 1)).astype(int)\n",
    "\n",
    "x[idx0, idx1, idx2]\n",
    "```"
   ]
  },
  {
   "cell_type": "markdown",
   "metadata": {},
   "source": [
    "## Q4 [advanced]\n",
    "\n",
    "Strictly speaking, this is not a question on indexing, but it's a fun\n",
    "exercise either way.\n",
    "\n",
    "Construct an array\n",
    "\n",
    "```\n",
    "x = np.arange(12, dtype=np.int32).reshape((3, 4))\n",
    "```\n",
    "\n",
    "so that ``x`` is\n",
    "\n",
    "```\n",
    "array([[ 0,  1,  2,  3],\n",
    "       [ 4,  5,  6,  7],\n",
    "       [ 8,  9, 10, 11]])\n",
    "```\n",
    "\n",
    "Now, provide to ``np.lib.stride_tricks.as_strided`` the strides necessary to view a\n",
    "sliding ``2x2`` window over this array. The output should be\n",
    "\n",
    "```\n",
    "array([[[[ 0,  1],\n",
    "         [ 4,  5]],\n",
    "\n",
    "        [[ 1,  2],\n",
    "         [ 5,  6]],\n",
    "\n",
    "        [[ 2,  3],\n",
    "         [ 6,  7]]],\n",
    "\n",
    "\n",
    "       [[[ 4,  5],\n",
    "         [ 8,  9]],\n",
    "\n",
    "        [[ 5,  6],\n",
    "         [ 9, 10]],\n",
    "\n",
    "        [[ 6,  7],\n",
    "         [10, 11]]]], dtype=int32)\n",
    "```\n",
    "\n",
    "The code is of the form\n",
    "\n",
    "```\n",
    "z = as_strided(x, shape=(2, 3, 2, 2),\n",
    "                  strides=(..., ..., ..., ...))\n",
    "```\n",
    "\n",
    "This sort of stride manipulation is handy for implementing techniques such as\n",
    "region based statistics, convolutions, etc."
   ]
  },
  {
   "cell_type": "markdown",
   "metadata": {},
   "source": [
    "## Structured Arrays"
   ]
  },
  {
   "cell_type": "markdown",
   "metadata": {},
   "source": [
    "### Q1: Structured data types\n",
    "\n",
    "Design a data-type for storing the following record:\n",
    "\n",
    " - Timestamp in nanoseconds (a 64-bit unsigned integer)\n",
    " - Position (x- and y-coordinates, stored as floating point numbers)\n",
    "\n",
    "Use it to represent the following data:\n",
    "\n",
    "```\n",
    "dt = np.dtype(<your code here>)\n",
    "x = np.array([(100, (0, 0.5)),\n",
    "              (200, (0, 10.3)),\n",
    "              (300, (5.5, 15.1))], dtype=dt)\n",
    "```\n",
    "\n",
    "Have a look at the ``np.dtype`` docstring if you need help.\n",
    "After constructing ``x``, try to print all the ``x`` values for which time\n",
    "is greater than 100 (hint: something of the form ``y[y > 100]``)."
   ]
  },
  {
   "cell_type": "markdown",
   "metadata": {},
   "source": [
    "### Q2: Structured file I/O\n",
    "\n",
    "Place the following data in a text file, ``data.txt``:\n",
    "\n",
    "```\n",
    "% rank         lemma (10 letters max)      frequency       dispersion\n",
    "21             they                        1865844         0.96\n",
    "42             her                         969591          0.91\n",
    "49             as                          829018          0.95\n",
    "7              to                          6332195         0.98\n",
    "63             take                        670745          0.97\n",
    "14             you                         3085642         0.92\n",
    "35             go                          1151045         0.93\n",
    "56             think                       772787          0.91\n",
    "28             not                         1638883         0.98\n",
    "```\n",
    "\n",
    "Now, design a suitable structured data type, then load the data from the text\n",
    "file using ``np.loadtxt`` (look at the docstring to see how to handle\n",
    "the '%' comment character).  Here's a skeleton to start with:\n",
    "\n",
    "```python\n",
    "import numpy as np\n",
    "txtdata = open('data.txt', 'r')\n",
    "\n",
    "# Construct the data-type\n",
    "# In IPython type np.dtype?<ENTER> for examples, e.g.,\n",
    "#\n",
    "# np.dtype([('x', np.float), ('y', np.int), ('z', np.uint8)])\n",
    "\n",
    "dt = np.dtype(...)  # Modify this line to give the correct answer\n",
    "\n",
    "data = np.loadtxt(...)  # Load data with loadtxt\n",
    "\n",
    "```\n",
    "\n",
    "Examine the data you got, for example:\n",
    " - Extract words only\n",
    " - Extract the 3rd row\n",
    " - Print all words with ``rank < 30``\n",
    "\n",
    "Sort the data according to frequency (see np.sort).\n",
    "\n",
    "Save the result to a compressed Numpy data file, ``sorted.npz``, using\n",
    "``np.savez`` and load it back with ``out = np.load(...)``.\n",
    "\n",
    "Do you get back what you put in?  If not, use ``dir(out)`` or\n",
    "TAB-completion on ``out`` to figure out how to access the data\n",
    "(HINT: `out` behaves like a dictionary)."
   ]
  },
  {
   "cell_type": "markdown",
   "metadata": {},
   "source": [
    "## Array Interface"
   ]
  },
  {
   "cell_type": "markdown",
   "metadata": {},
   "source": [
    "An author of a foreign package (included with the exercizes as\n",
    "``problems/mutable_str.py``) provides a string class that\n",
    "allocates its own memory:\n",
    "\n",
    "```ipython\n",
    "In [1]: from mutable_str import MutableString\n",
    "In [2]: s = MutableString('abcde')\n",
    "In [3]: print(s)\n",
    "abcde\n",
    "```\n",
    "\n",
    "You'd like to view these mutable (*mutable* means the ability to modify in place)\n",
    "strings as ndarrays, in order to manipulate the underlying memory.\n",
    "\n",
    "Add an __array_interface__ dictionary attribute to s, then convert s to an\n",
    "ndarray. Numerically add \"2\" to the array (use the in-place operator ``+=``).\n",
    "\n",
    "Then print the original string to ensure that its value was modified.\n",
    "\n",
    "Here's a skeleton outline:\n",
    "\n",
    "```python\n",
    "import numpy as np\n",
    "from mutable_str import MutableString\n",
    "\n",
    "s = MutableString('abcde')\n",
    "\n",
    "# --- EDIT THIS SECTION ---\n",
    "\n",
    "# Create an array interface to this foreign object\n",
    "s.__array_interface__ = {'data' : (XXX, False), # (ptr, is read_only?)\n",
    "                         'shape' : XXX,\n",
    "                         'typestr' : '|u1', # typecode unsigned character\n",
    "                         }\n",
    "\n",
    "# --- EDIT THIS SECTION ---\n",
    "\n",
    "print('String before converting to array:', s)\n",
    "sa = np.asarray(s)\n",
    "\n",
    "print('String after converting to array:', sa)\n",
    "\n",
    "sa += 2\n",
    "print('String after adding \"2\" to array:', s)\n",
    "\n",
    "```\n",
    "\n",
    "> **Hint:** Documentation for NumPy's ``__array_interface__``\n",
    "  may be found [in the online docs](http://docs.scipy.org/doc/numpy/reference/arrays.interface.html)."
   ]
  },
  {
   "cell_type": "markdown",
   "metadata": {},
   "source": [
    "## Advanced Exercises"
   ]
  },
  {
   "cell_type": "markdown",
   "metadata": {},
   "source": [
    "### Q1\n",
    "\n",
    "Construct the following two arrays:\n",
    "\n",
    "```\n",
    "x = np.array([[1, 2], [3, 4]], order='C', dtype=np.uint8)\n",
    "y = np.array([[1, 2], [3, 4]], order='F', dtype=np.uint8)\n",
    "```\n",
    "\n",
    "Compare the bytes they store in memory by using\n",
    "\n",
    "```\n",
    "import ctypes\n",
    "print(list(ctypes.string_at(x.ctypes.data, 4)))\n",
    "print(list(ctypes.string_at(y.ctypes.data, 4)))\n",
    "```\n",
    "\n",
    "For any array in general, you can do the above using\n",
    "\n",
    "```\n",
    "print(list(ctypes.string_at(x.ctypes.data, x.size * x.itemsize)))\n",
    "```\n",
    "\n",
    "Note that, even though these arrays store data in different memory order, they\n",
    "are identical from the user's perspective.\n",
    "\n",
    "```\n",
    "print(x)\n",
    "print(y)\n",
    "```\n",
    "\n",
    "Examine the bytes stored by the following array:\n",
    "\n",
    "```\n",
    "x = np.array([[1, 2], [3, 4]], dtype=np.uint32)\n",
    "```\n",
    "\n",
    "Note that, on most laptops, the byte order will be little Endian, i.e. least\n",
    "significant byte first."
   ]
  },
  {
   "cell_type": "markdown",
   "metadata": {},
   "source": [
    "## Very Advanced Exercises"
   ]
  },
  {
   "cell_type": "markdown",
   "metadata": {},
   "source": [
    "### Q1 : Tensordot\n",
    "\n",
    "Consider a set of p matrices, each with shape ``(n, n)``, and a set of p vectors,\n",
    "each with shape ``(n, 1)``.\n",
    "\n",
    "Compute the sum of their p matrix products using a single call to ``np.tensordot``.  The result\n",
    "has shape ``(n, 1)``.\n",
    "\n",
    "Start with the following code as template:\n",
    "\n",
    "```python\n",
    "p, n = 10, 20\n",
    "M = np.ones((p,n,n))\n",
    "V = np.ones((p,n,1))\n",
    "\n",
    "S = np.tensordot(M, V, ...)\n",
    "\n",
    "print(S)\n",
    "```\n",
    "\n",
    "Example run:\n",
    "\n",
    "```python\n",
    "X = np.array([[[1, 1],\n",
    "              [1, 1]],\n",
    "\n",
    "             [[2, 2],\n",
    "              [2, 2]]])\n",
    "```\n",
    "\n",
    "``X.shape`` is ``(2, 2, 2)``, i.e. we have two arrays of ``(2, 2)``.\n",
    "\n",
    "```python\n",
    "Y = np.array([[[1],\n",
    "               [1]],\n",
    "\n",
    "              [[2],\n",
    "               [2]]])\n",
    "```\n",
    "            \n",
    "``Y.shape`` is ``(2, 2, 1)``, i.e. we have two vectors of ``(2, 1)``.\n",
    "\n",
    "```python\n",
    "out = np.tensordot(X, Y, ...)\n",
    "```\n",
    "\n",
    "The output is:\n",
    "\n",
    "```\n",
    "array([[10],\n",
    "       [10]])\n",
    "```\n",
    "\n",
    "> **Additional note:** Since v1.8, numpy implements ``dot`` as a generalised ufunc, which means that it can\n",
    "> be applied to stacks of matrices."
   ]
  },
  {
   "cell_type": "markdown",
   "metadata": {},
   "source": [
    "### Q2\n",
    "\n",
    "Attempt the [Fortran-ordering quiz](http://mentat.za.net/numpy/quiz/)."
   ]
  },
  {
   "cell_type": "markdown",
   "metadata": {},
   "source": [
    "<div style=\"height: 400px;\"/>"
   ]
  },
  {
   "cell_type": "code",
   "execution_count": 1,
   "metadata": {
    "collapsed": false
   },
   "outputs": [
    {
     "data": {
      "text/html": [
       "<style>\n",
       ".rendered_html {\n",
       "    font-family: Georgia, serif;\n",
       "    font-size: 110%;\n",
       "    line-height: 1.5;\n",
       "}\n",
       "\n",
       ".input {\n",
       "    width: 930px;\n",
       "}\n",
       "\n",
       ".inner_cell {\n",
       "    width: 800px;\n",
       "}\n",
       "\n",
       ".code_cell {\n",
       "    width: 800px;\n",
       "}\n",
       "\n",
       ".CodeMirror-sizer {\n",
       "}\n",
       "\n",
       "hr {\n",
       "    border: 1px solid #DDD;\n",
       "}\n",
       "\n",
       ".rendered_html h1 {\n",
       "    margin: 0.25em 0em 0.5em;\n",
       "    font-family: sans-serif;\n",
       "    color: #015C9C;\n",
       "    text-align: center;\n",
       "    line-height: 1.2;\n",
       "    page-break-before: always;\n",
       "}\n",
       "\n",
       ".rendered_html h2 {\n",
       "    margin: 1.1em 0em 0.5em;\n",
       "    font-family: sans-serif;\n",
       "    color: #26465D;\n",
       "    line-height: 1.2;\n",
       "}\n",
       "\n",
       ".rendered_html h3 {\n",
       "    font-family: sans-serif;\n",
       "    margin: 1.1em 0em 0.5em;\n",
       "    color: #002845;\n",
       "    line-height: 1.2;\n",
       "}\n",
       "\n",
       ".rendered_html li {\n",
       "    line-height: 1.5;\n",
       "}\n",
       "\n",
       ".CodeMirror-lines {\n",
       "    font-size: 110%;\n",
       "    line-height: 1.4em;\n",
       "    font-family: DejaVu Sans Mono, Consolas, Ubuntu, monospace;\n",
       "}\n",
       "\n",
       "h1.bigtitle {\n",
       "    margin: 4cm 1cm 4cm 1cm;\n",
       "    font-size: 300%;\n",
       "}\n",
       "\n",
       "h3.point {\n",
       "    font-size: 200%;\n",
       "    text-align: center;\n",
       "    margin: 2em 0em 2em 0em;\n",
       "    #26465D\n",
       "}\n",
       "\n",
       ".logo {\n",
       "    margin: 20px 0 20px 0;\n",
       "}\n",
       "\n",
       "a.anchor-link {\n",
       "    display: none;\n",
       "}\n",
       "\n",
       "h1.title {\n",
       "    font-size: 250%;\n",
       "}\n",
       "\n",
       ".exercize {\n",
       "    color: #738;\n",
       "}\n",
       "\n",
       "h2 .exercize {\n",
       "    font-style: italic;\n",
       "}\n",
       "\n",
       "</style>"
      ],
      "text/plain": [
       "<IPython.core.display.HTML object>"
      ]
     },
     "metadata": {},
     "output_type": "display_data"
    }
   ],
   "source": [
    "%reload_ext load_style\n",
    "%load_style css/exercises.css"
   ]
  }
 ],
 "metadata": {
  "kernelspec": {
   "display_name": "Python 3",
   "language": "python",
   "name": "python3"
  },
  "language_info": {
   "codemirror_mode": {
    "name": "ipython",
    "version": 3
   },
   "file_extension": ".py",
   "mimetype": "text/x-python",
   "name": "python",
   "nbconvert_exporter": "python",
   "pygments_lexer": "ipython3",
   "version": "3.5.2+"
  }
 },
 "nbformat": 4,
 "nbformat_minor": 0
}
